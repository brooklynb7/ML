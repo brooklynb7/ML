{
 "cells": [
  {
   "cell_type": "code",
   "execution_count": 200,
   "metadata": {
    "collapsed": true
   },
   "outputs": [],
   "source": [
    "import keras"
   ]
  },
  {
   "cell_type": "code",
   "execution_count": 201,
   "metadata": {
    "collapsed": true
   },
   "outputs": [],
   "source": [
    "from keras.datasets import mnist\n",
    "from keras.models import Sequential\n",
    "from keras.layers import Dense, Activation, Dropout\n",
    "from keras.optimizers import SGD, RMSprop, Adam\n",
    "\n",
    "# Disable certificate verify\n",
    "import ssl\n",
    "ssl._create_default_https_context = ssl._create_unverified_context"
   ]
  },
  {
   "cell_type": "code",
   "execution_count": 212,
   "metadata": {},
   "outputs": [
    {
     "data": {
      "text/plain": [
       "(60000, 10)"
      ]
     },
     "execution_count": 212,
     "metadata": {},
     "output_type": "execute_result"
    }
   ],
   "source": [
    "(X_train, y_train),(X_test, y_test) = mnist.load_data()\n",
    "Y_train.shape"
   ]
  },
  {
   "cell_type": "code",
   "execution_count": 203,
   "metadata": {
    "collapsed": true
   },
   "outputs": [],
   "source": [
    "# flatten\n",
    "X_train = X_train.reshape(60000, 784)\n",
    "X_test = X_test.reshape(10000, 784)\n",
    "X_train = X_train.astype('float32')\n",
    "X_test = X_test.astype('float32')"
   ]
  },
  {
   "cell_type": "code",
   "execution_count": 204,
   "metadata": {
    "collapsed": true
   },
   "outputs": [],
   "source": [
    "# Normalize\n",
    "X_train /= 255\n",
    "X_test /= 255"
   ]
  },
  {
   "cell_type": "code",
   "execution_count": 205,
   "metadata": {
    "collapsed": true
   },
   "outputs": [],
   "source": [
    "# Hyperparameters\n",
    "NB_EPOCHS = 12\n",
    "BATCH_SIZE = 128\n",
    "NB_CLASSES = 10\n",
    "VALIDATION_SPLIT = 0.2\n",
    "\n",
    "# Convert class into one-hot encoding\n",
    "Y_train = keras.utils.to_categorical(y_train, NB_CLASSES)\n",
    "Y_test = keras.utils.to_categorical(y_test, NB_CLASSES)"
   ]
  },
  {
   "cell_type": "code",
   "execution_count": 206,
   "metadata": {
    "collapsed": true
   },
   "outputs": [],
   "source": [
    "# Build the model\n",
    "model = Sequential()\n",
    "\n",
    "model.add(Dense(512, activation='relu', input_shape=(784,)))\n",
    "model.add(Dropout(0.16))\n",
    "model.add(Dense(512, activation='relu'))\n",
    "model.add(Dense(512, activation='relu'))\n",
    "model.add(Dropout(0.22))\n",
    "model.add(Dense(512, activation='relu'))\n",
    "model.add(Dense(10, activation='softmax'))\n",
    "\n",
    "#model.add(Dense(NB_CLASSES, input_shape=(784,)))\n",
    "# model.add(Activation('softmax'))"
   ]
  },
  {
   "cell_type": "code",
   "execution_count": 207,
   "metadata": {
    "collapsed": true
   },
   "outputs": [],
   "source": [
    "model.compile(loss='categorical_crossentropy',optimizer=Adam(), metrics=['accuracy'])"
   ]
  },
  {
   "cell_type": "code",
   "execution_count": 208,
   "metadata": {
    "scrolled": false
   },
   "outputs": [
    {
     "name": "stdout",
     "output_type": "stream",
     "text": [
      "Train on 60000 samples, validate on 10000 samples\n",
      "Epoch 1/12\n",
      "60000/60000 [==============================] - 9s - loss: 0.2508 - acc: 0.9231 - val_loss: 0.1274 - val_acc: 0.9624\n",
      "Epoch 2/12\n",
      "60000/60000 [==============================] - 9s - loss: 0.1097 - acc: 0.9679 - val_loss: 0.0814 - val_acc: 0.9752\n",
      "Epoch 3/12\n",
      "60000/60000 [==============================] - 9s - loss: 0.0794 - acc: 0.9756 - val_loss: 0.0813 - val_acc: 0.9755\n",
      "Epoch 4/12\n",
      "60000/60000 [==============================] - 9s - loss: 0.0650 - acc: 0.9801 - val_loss: 0.0783 - val_acc: 0.9755\n",
      "Epoch 5/12\n",
      "60000/60000 [==============================] - 9s - loss: 0.0513 - acc: 0.9842 - val_loss: 0.0753 - val_acc: 0.9787\n",
      "Epoch 6/12\n",
      "60000/60000 [==============================] - 9s - loss: 0.0465 - acc: 0.9852 - val_loss: 0.0900 - val_acc: 0.9737\n",
      "Epoch 7/12\n",
      "60000/60000 [==============================] - 10s - loss: 0.0407 - acc: 0.9873 - val_loss: 0.0666 - val_acc: 0.9807\n",
      "Epoch 8/12\n",
      "60000/60000 [==============================] - 9s - loss: 0.0342 - acc: 0.9895 - val_loss: 0.0751 - val_acc: 0.9805\n",
      "Epoch 9/12\n",
      "60000/60000 [==============================] - 10s - loss: 0.0340 - acc: 0.9897 - val_loss: 0.0868 - val_acc: 0.9777\n",
      "Epoch 10/12\n",
      "60000/60000 [==============================] - 10s - loss: 0.0309 - acc: 0.9906 - val_loss: 0.0819 - val_acc: 0.9806\n",
      "Epoch 11/12\n",
      "60000/60000 [==============================] - 10s - loss: 0.0289 - acc: 0.9912 - val_loss: 0.0691 - val_acc: 0.9822\n",
      "Epoch 12/12\n",
      "60000/60000 [==============================] - 10s - loss: 0.0261 - acc: 0.9920 - val_loss: 0.0904 - val_acc: 0.9795\n"
     ]
    }
   ],
   "source": [
    "history = model.fit(X_train, Y_train, batch_size = BATCH_SIZE, epochs = NB_EPOCHS, verbose = 1, \n",
    "                   validation_data=(X_test,Y_test))"
   ]
  },
  {
   "cell_type": "code",
   "execution_count": 209,
   "metadata": {},
   "outputs": [
    {
     "name": "stdout",
     "output_type": "stream",
     "text": [
      "[0.09035054672704991, 0.97950000000000004]\n"
     ]
    }
   ],
   "source": [
    "score = model.evaluate(X_test, Y_test, verbose=0)\n",
    "print(score)"
   ]
  },
  {
   "cell_type": "code",
   "execution_count": null,
   "metadata": {
    "collapsed": true
   },
   "outputs": [],
   "source": []
  }
 ],
 "metadata": {
  "kernelspec": {
   "display_name": "Python 3",
   "language": "python",
   "name": "python3"
  },
  "language_info": {
   "codemirror_mode": {
    "name": "ipython",
    "version": 3
   },
   "file_extension": ".py",
   "mimetype": "text/x-python",
   "name": "python",
   "nbconvert_exporter": "python",
   "pygments_lexer": "ipython3",
   "version": "3.6.1"
  }
 },
 "nbformat": 4,
 "nbformat_minor": 2
}
