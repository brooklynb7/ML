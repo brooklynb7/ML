{
 "cells": [
  {
   "cell_type": "code",
   "execution_count": 2,
   "metadata": {},
   "outputs": [],
   "source": [
    "# Code from Chapter 3 of Machine Learning: An Algorithmic Perspective (2nd Edition)\n",
    "# by Stephen Marsland (http://stephenmonika.net)\n",
    "\n",
    "# You are free to use, change, or redistribute the code in any way you wish for\n",
    "# non-commercial purposes, but please maintain the name of the original author.\n",
    "# This code comes with no warranty of any kind.\n",
    "\n",
    "# Stephen Marsland, 2008, 2014\n",
    "\n",
    "import numpy as np"
   ]
  },
  {
   "cell_type": "code",
   "execution_count": 44,
   "metadata": {},
   "outputs": [],
   "source": [
    "class pcn:\n",
    "    # A basic perceptron\n",
    "    def __init__(self, inputs, targets):\n",
    "        # Set up the network size\n",
    "        self.nIn = np.shape(inputs)[1]\n",
    "        self.nOut = np.shape(targets)[1]\n",
    "        self.nData = np.shape(inputs)[0]\n",
    "        \n",
    "        self.weights = np.random.rand(self.nIn + 1, self.nOut)\n",
    "        \n",
    "    def pcnTrain(self, inputs, targets, alpha, nIter):\n",
    "        # Add bias node\n",
    "        inputs = np.concatenate((inputs, np.ones((np.shape(inputs)[0],1))),axis=1)\n",
    "        \n",
    "        # Train\n",
    "        for n in range(nIter):\n",
    "            self.activations = self.pcnForward(inputs)\n",
    "            print(self.weights)\n",
    "            print(self.activations)\n",
    "            self.weights += alpha * np.dot(np.transpose(inputs),targets - self.activations)            \n",
    "\n",
    "    \n",
    "    def pcnForward(self, inputs):\n",
    "        activations = np.dot(inputs, self.weights)\n",
    "        return np.where(activations > 0 , 1, 0)\n",
    "        "
   ]
  },
  {
   "cell_type": "code",
   "execution_count": 45,
   "metadata": {},
   "outputs": [
    {
     "name": "stdout",
     "output_type": "stream",
     "text": [
      "[[0.54691564]\n",
      " [0.09952408]\n",
      " [0.21167721]]\n",
      "[[1]\n",
      " [1]\n",
      " [1]\n",
      " [1]]\n",
      "[[ 0.54691564]\n",
      " [ 0.09952408]\n",
      " [-0.03832279]]\n",
      "[[0]\n",
      " [1]\n",
      " [1]\n",
      " [1]]\n",
      "[[ 0.54691564]\n",
      " [ 0.09952408]\n",
      " [-0.03832279]]\n",
      "[[0]\n",
      " [1]\n",
      " [1]\n",
      " [1]]\n",
      "[[ 0.54691564]\n",
      " [ 0.09952408]\n",
      " [-0.03832279]]\n",
      "[[0]\n",
      " [1]\n",
      " [1]\n",
      " [1]]\n",
      "[[ 0.54691564]\n",
      " [ 0.09952408]\n",
      " [-0.03832279]]\n",
      "[[0]\n",
      " [1]\n",
      " [1]\n",
      " [1]]\n"
     ]
    }
   ],
   "source": [
    "dataOr = np.array([[0,0,0],[0,1,1],[1,0,1],[1,1,1]])\n",
    "\n",
    "trainX = dataOr[:,0:2]\n",
    "trainY = dataOr[:,2:]\n",
    "p = pcn(trainX, trainY)\n",
    "p.pcnTrain(trainX,trainY,0.25,5)"
   ]
  },
  {
   "cell_type": "code",
   "execution_count": null,
   "metadata": {},
   "outputs": [],
   "source": []
  },
  {
   "cell_type": "code",
   "execution_count": null,
   "metadata": {},
   "outputs": [],
   "source": []
  }
 ],
 "metadata": {
  "kernelspec": {
   "display_name": "Python 3",
   "language": "python",
   "name": "python3"
  },
  "language_info": {
   "codemirror_mode": {
    "name": "ipython",
    "version": 3
   },
   "file_extension": ".py",
   "mimetype": "text/x-python",
   "name": "python",
   "nbconvert_exporter": "python",
   "pygments_lexer": "ipython3",
   "version": "3.7.0"
  }
 },
 "nbformat": 4,
 "nbformat_minor": 2
}
